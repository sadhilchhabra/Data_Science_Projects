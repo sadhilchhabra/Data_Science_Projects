{
 "cells": [
  {
   "cell_type": "markdown",
   "id": "e62ce5fa",
   "metadata": {},
   "source": [
    "# ---------------Importing the necessary Python packages---------------"
   ]
  },
  {
   "cell_type": "code",
   "execution_count": 1,
   "id": "0e322049",
   "metadata": {},
   "outputs": [],
   "source": [
    "import numpy as np\n",
    "import pandas as pd\n",
    "import plotly.express as px\n",
    "import seaborn as sns\n",
    "import matplotlib.pyplot as plt\n",
    "from sklearn.model_selection import train_test_split\n",
    "from sklearn.preprocessing import LabelEncoder\n",
    "from sklearn.preprocessing import RobustScaler, OneHotEncoder\n",
    "from sklearn import preprocessing\n",
    "from sklearn import metrics\n",
    "from scipy.stats import norm, skew, uniform, randint\n",
    "from scipy import stats\n",
    "import random\n",
    "import warnings\n",
    "warnings.filterwarnings('ignore')\n",
    "pd.set_option('display.max_columns', None)"
   ]
  },
  {
   "cell_type": "markdown",
   "id": "e72cc436",
   "metadata": {},
   "source": [
    "# ---------------Data Exploration---------------"
   ]
  },
  {
   "cell_type": "code",
   "execution_count": 2,
   "id": "692516a4",
   "metadata": {
    "scrolled": false
   },
   "outputs": [],
   "source": [
    "train = pd.read_csv('usjobs_train.csv')\n",
    "test = pd.read_csv('usjobs_test.csv')"
   ]
  },
  {
   "cell_type": "code",
   "execution_count": 3,
   "id": "3982627e",
   "metadata": {},
   "outputs": [],
   "source": [
    "train = train[['ID', 'Jobs_Group', 'Profile', 'Remote', 'Frecuency_Salary', 'Mean_Salary', 'Skills', 'Revenue', 'Employee', 'Company_Score', 'Reviews', 'Director_Score']]\n",
    "test = test[['ID', 'Jobs_Group', 'Profile', 'Remote', 'Frecuency_Salary', 'Skills', 'Revenue', 'Employee', 'Company_Score', 'Reviews', 'Director_Score']]"
   ]
  },
  {
   "cell_type": "code",
   "execution_count": 4,
   "id": "e99b6172",
   "metadata": {},
   "outputs": [
    {
     "data": {
      "text/html": [
       "<div>\n",
       "<style scoped>\n",
       "    .dataframe tbody tr th:only-of-type {\n",
       "        vertical-align: middle;\n",
       "    }\n",
       "\n",
       "    .dataframe tbody tr th {\n",
       "        vertical-align: top;\n",
       "    }\n",
       "\n",
       "    .dataframe thead th {\n",
       "        text-align: right;\n",
       "    }\n",
       "</style>\n",
       "<table border=\"1\" class=\"dataframe\">\n",
       "  <thead>\n",
       "    <tr style=\"text-align: right;\">\n",
       "      <th></th>\n",
       "      <th>ID</th>\n",
       "      <th>Jobs_Group</th>\n",
       "      <th>Profile</th>\n",
       "      <th>Remote</th>\n",
       "      <th>Frecuency_Salary</th>\n",
       "      <th>Mean_Salary</th>\n",
       "      <th>Skills</th>\n",
       "      <th>Revenue</th>\n",
       "      <th>Employee</th>\n",
       "      <th>Company_Score</th>\n",
       "      <th>Reviews</th>\n",
       "      <th>Director_Score</th>\n",
       "    </tr>\n",
       "  </thead>\n",
       "  <tbody>\n",
       "    <tr>\n",
       "      <th>0</th>\n",
       "      <td>job_f2c807527f687b96</td>\n",
       "      <td>Financial Analyst</td>\n",
       "      <td>NaN</td>\n",
       "      <td>Remote</td>\n",
       "      <td>hour</td>\n",
       "      <td>115000.0</td>\n",
       "      <td>['Salesforce', 'Bachelor']</td>\n",
       "      <td>NaN</td>\n",
       "      <td>XS</td>\n",
       "      <td>4.2</td>\n",
       "      <td>20.0</td>\n",
       "      <td>NaN</td>\n",
       "    </tr>\n",
       "    <tr>\n",
       "      <th>1</th>\n",
       "      <td>job_2660d4c53505af10</td>\n",
       "      <td>Controller</td>\n",
       "      <td>NaN</td>\n",
       "      <td>NaN</td>\n",
       "      <td>year</td>\n",
       "      <td>185000.0</td>\n",
       "      <td>['SQL', 'Master', 'Dynamics 365', 'Snowflake',...</td>\n",
       "      <td>NaN</td>\n",
       "      <td>M</td>\n",
       "      <td>3.5</td>\n",
       "      <td>58.0</td>\n",
       "      <td>0.70</td>\n",
       "    </tr>\n",
       "    <tr>\n",
       "      <th>2</th>\n",
       "      <td>sj_50358c44328ae06a</td>\n",
       "      <td>Financial Analyst</td>\n",
       "      <td>Senior</td>\n",
       "      <td>NaN</td>\n",
       "      <td>year</td>\n",
       "      <td>84500.0</td>\n",
       "      <td>['Word', 'Bachelor', 'Excel']</td>\n",
       "      <td>XXXS</td>\n",
       "      <td>XXXS</td>\n",
       "      <td>3.4</td>\n",
       "      <td>88.0</td>\n",
       "      <td>NaN</td>\n",
       "    </tr>\n",
       "    <tr>\n",
       "      <th>3</th>\n",
       "      <td>job_a087fd700e3e85f0</td>\n",
       "      <td>Business Intelligence</td>\n",
       "      <td>Senior</td>\n",
       "      <td>Hybrid</td>\n",
       "      <td>year</td>\n",
       "      <td>111625.0</td>\n",
       "      <td>['PowerPoint', 'Power BI', 'Tableau', 'Word', ...</td>\n",
       "      <td>XXL</td>\n",
       "      <td>XL</td>\n",
       "      <td>3.8</td>\n",
       "      <td>30.0</td>\n",
       "      <td>0.70</td>\n",
       "    </tr>\n",
       "    <tr>\n",
       "      <th>4</th>\n",
       "      <td>job_d2a2538a2c4d2033</td>\n",
       "      <td>Operations Analyst</td>\n",
       "      <td>NaN</td>\n",
       "      <td>Remote</td>\n",
       "      <td>hour</td>\n",
       "      <td>102690.4</td>\n",
       "      <td>['Office']</td>\n",
       "      <td>NaN</td>\n",
       "      <td>XL</td>\n",
       "      <td>4.2</td>\n",
       "      <td>186.0</td>\n",
       "      <td>0.85</td>\n",
       "    </tr>\n",
       "  </tbody>\n",
       "</table>\n",
       "</div>"
      ],
      "text/plain": [
       "                     ID             Jobs_Group Profile  Remote  \\\n",
       "0  job_f2c807527f687b96      Financial Analyst     NaN  Remote   \n",
       "1  job_2660d4c53505af10             Controller     NaN     NaN   \n",
       "2   sj_50358c44328ae06a      Financial Analyst  Senior     NaN   \n",
       "3  job_a087fd700e3e85f0  Business Intelligence  Senior  Hybrid   \n",
       "4  job_d2a2538a2c4d2033     Operations Analyst     NaN  Remote   \n",
       "\n",
       "  Frecuency_Salary  Mean_Salary  \\\n",
       "0             hour     115000.0   \n",
       "1             year     185000.0   \n",
       "2             year      84500.0   \n",
       "3             year     111625.0   \n",
       "4             hour     102690.4   \n",
       "\n",
       "                                              Skills Revenue Employee  \\\n",
       "0                         ['Salesforce', 'Bachelor']     NaN       XS   \n",
       "1  ['SQL', 'Master', 'Dynamics 365', 'Snowflake',...     NaN        M   \n",
       "2                      ['Word', 'Bachelor', 'Excel']    XXXS     XXXS   \n",
       "3  ['PowerPoint', 'Power BI', 'Tableau', 'Word', ...     XXL       XL   \n",
       "4                                         ['Office']     NaN       XL   \n",
       "\n",
       "   Company_Score  Reviews  Director_Score  \n",
       "0            4.2     20.0             NaN  \n",
       "1            3.5     58.0            0.70  \n",
       "2            3.4     88.0             NaN  \n",
       "3            3.8     30.0            0.70  \n",
       "4            4.2    186.0            0.85  "
      ]
     },
     "execution_count": 4,
     "metadata": {},
     "output_type": "execute_result"
    }
   ],
   "source": [
    "train.head()"
   ]
  },
  {
   "cell_type": "code",
   "execution_count": 5,
   "id": "6b7948f1",
   "metadata": {},
   "outputs": [
    {
     "data": {
      "text/html": [
       "<div>\n",
       "<style scoped>\n",
       "    .dataframe tbody tr th:only-of-type {\n",
       "        vertical-align: middle;\n",
       "    }\n",
       "\n",
       "    .dataframe tbody tr th {\n",
       "        vertical-align: top;\n",
       "    }\n",
       "\n",
       "    .dataframe thead th {\n",
       "        text-align: right;\n",
       "    }\n",
       "</style>\n",
       "<table border=\"1\" class=\"dataframe\">\n",
       "  <thead>\n",
       "    <tr style=\"text-align: right;\">\n",
       "      <th></th>\n",
       "      <th>ID</th>\n",
       "      <th>Jobs_Group</th>\n",
       "      <th>Profile</th>\n",
       "      <th>Remote</th>\n",
       "      <th>Frecuency_Salary</th>\n",
       "      <th>Skills</th>\n",
       "      <th>Revenue</th>\n",
       "      <th>Employee</th>\n",
       "      <th>Company_Score</th>\n",
       "      <th>Reviews</th>\n",
       "      <th>Director_Score</th>\n",
       "    </tr>\n",
       "  </thead>\n",
       "  <tbody>\n",
       "    <tr>\n",
       "      <th>0</th>\n",
       "      <td>sj_99ad4f80ae7f4835</td>\n",
       "      <td>Business Analyst</td>\n",
       "      <td>Lead</td>\n",
       "      <td>Remote</td>\n",
       "      <td>year</td>\n",
       "      <td>['PowerPoint', 'Office', 'Excel', 'Agile']</td>\n",
       "      <td>NaN</td>\n",
       "      <td>NaN</td>\n",
       "      <td>5.0</td>\n",
       "      <td>2.0</td>\n",
       "      <td>NaN</td>\n",
       "    </tr>\n",
       "    <tr>\n",
       "      <th>1</th>\n",
       "      <td>job_6ff7f1a7c400916a</td>\n",
       "      <td>Financial Analyst</td>\n",
       "      <td>Senior</td>\n",
       "      <td>NaN</td>\n",
       "      <td>year</td>\n",
       "      <td>['PowerPoint', 'Master', 'Word', 'Bachelor', '...</td>\n",
       "      <td>NaN</td>\n",
       "      <td>XS</td>\n",
       "      <td>NaN</td>\n",
       "      <td>NaN</td>\n",
       "      <td>NaN</td>\n",
       "    </tr>\n",
       "    <tr>\n",
       "      <th>2</th>\n",
       "      <td>job_e059d20eba88b17a</td>\n",
       "      <td>ML/AI Engineer</td>\n",
       "      <td>Senior</td>\n",
       "      <td>Hybrid</td>\n",
       "      <td>year</td>\n",
       "      <td>['Tensor Flow', 'Python', 'Master', 'PhD', 'C+...</td>\n",
       "      <td>NaN</td>\n",
       "      <td>NaN</td>\n",
       "      <td>NaN</td>\n",
       "      <td>NaN</td>\n",
       "      <td>NaN</td>\n",
       "    </tr>\n",
       "    <tr>\n",
       "      <th>3</th>\n",
       "      <td>job_79f7953813b13358</td>\n",
       "      <td>Data Scientist</td>\n",
       "      <td>NaN</td>\n",
       "      <td>Remote</td>\n",
       "      <td>year</td>\n",
       "      <td>['Google Cloud', 'Python', 'SQL', 'PhD']</td>\n",
       "      <td>XL</td>\n",
       "      <td>XL</td>\n",
       "      <td>4.0</td>\n",
       "      <td>275.0</td>\n",
       "      <td>0.78</td>\n",
       "    </tr>\n",
       "    <tr>\n",
       "      <th>4</th>\n",
       "      <td>job_892dfe86b96f322b</td>\n",
       "      <td>Financial Analyst</td>\n",
       "      <td>NaN</td>\n",
       "      <td>NaN</td>\n",
       "      <td>year</td>\n",
       "      <td>['PowerPoint', 'Master', 'Word', 'Excel', 'Bac...</td>\n",
       "      <td>NaN</td>\n",
       "      <td>NaN</td>\n",
       "      <td>NaN</td>\n",
       "      <td>NaN</td>\n",
       "      <td>NaN</td>\n",
       "    </tr>\n",
       "  </tbody>\n",
       "</table>\n",
       "</div>"
      ],
      "text/plain": [
       "                     ID         Jobs_Group Profile  Remote Frecuency_Salary  \\\n",
       "0   sj_99ad4f80ae7f4835   Business Analyst    Lead  Remote             year   \n",
       "1  job_6ff7f1a7c400916a  Financial Analyst  Senior     NaN             year   \n",
       "2  job_e059d20eba88b17a     ML/AI Engineer  Senior  Hybrid             year   \n",
       "3  job_79f7953813b13358     Data Scientist     NaN  Remote             year   \n",
       "4  job_892dfe86b96f322b  Financial Analyst     NaN     NaN             year   \n",
       "\n",
       "                                              Skills Revenue Employee  \\\n",
       "0         ['PowerPoint', 'Office', 'Excel', 'Agile']     NaN      NaN   \n",
       "1  ['PowerPoint', 'Master', 'Word', 'Bachelor', '...     NaN       XS   \n",
       "2  ['Tensor Flow', 'Python', 'Master', 'PhD', 'C+...     NaN      NaN   \n",
       "3           ['Google Cloud', 'Python', 'SQL', 'PhD']      XL       XL   \n",
       "4  ['PowerPoint', 'Master', 'Word', 'Excel', 'Bac...     NaN      NaN   \n",
       "\n",
       "   Company_Score  Reviews  Director_Score  \n",
       "0            5.0      2.0             NaN  \n",
       "1            NaN      NaN             NaN  \n",
       "2            NaN      NaN             NaN  \n",
       "3            4.0    275.0            0.78  \n",
       "4            NaN      NaN             NaN  "
      ]
     },
     "execution_count": 5,
     "metadata": {},
     "output_type": "execute_result"
    }
   ],
   "source": [
    "test.head()"
   ]
  },
  {
   "cell_type": "code",
   "execution_count": 6,
   "id": "bc7cfa09",
   "metadata": {},
   "outputs": [
    {
     "data": {
      "image/png": "[encoded data removed]",
      "text/plain": [
       "<Figure size 1008x504 with 1 Axes>"
      ]
     },
     "metadata": {
      "needs_background": "light"
     },
     "output_type": "display_data"
    }
   ],
   "source": [
    "import seaborn as sns\n",
    "import matplotlib.pyplot as plt\n",
    "from collections import Counter\n",
    "\n",
    "plt.figure(figsize=(14, 7))\n",
    "sns.barplot(x='Jobs_Group', y='Mean_Salary', data=train, ci=None)\n",
    "plt.xlabel('Job Group')\n",
    "plt.ylabel('Mean Salary')\n",
    "plt.title('Job Group VS Salary')\n",
    "plt.xticks(rotation=45)\n",
    "\n",
    "# Get counts for each category in Jobs_Group\n",
    "job_counts = Counter(train['Jobs_Group'])\n",
    "\n",
    "# Annotate the count above each bar\n",
    "for i, bar in enumerate(job_counts):\n",
    "    plt.text(i, job_counts[bar] + 1, str(job_counts[bar]), ha='center', va='bottom')\n",
    "\n",
    "plt.tight_layout()\n",
    "\n",
    "# Show the plot\n",
    "plt.show()"
   ]
  },
  {
   "cell_type": "code",
   "execution_count": 7,
   "id": "de1a0582",
   "metadata": {},
   "outputs": [
    {
     "data": {
      "image/png": "[encoded data removed]",
      "text/plain": [
       "<Figure size 576x432 with 1 Axes>"
      ]
     },
     "metadata": {
      "needs_background": "light"
     },
     "output_type": "display_data"
    }
   ],
   "source": [
    "import seaborn as sns\n",
    "\n",
    "plt.figure(figsize=(8, 6))\n",
    "sns.scatterplot(x='Company_Score', y='Reviews', data=train)\n",
    "plt.xlabel('Company Score')\n",
    "plt.ylabel('Reviews')\n",
    "plt.title('Company Score VS Reviews')\n",
    "plt.tight_layout()\n",
    "\n",
    "# Show the plot\n",
    "plt.show()"
   ]
  },
  {
   "cell_type": "code",
   "execution_count": 8,
   "id": "c895b17d",
   "metadata": {},
   "outputs": [
    {
     "data": {
      "image/png": "[encoded data removed]",
      "text/plain": [
       "<Figure size 1008x504 with 1 Axes>"
      ]
     },
     "metadata": {
      "needs_background": "light"
     },
     "output_type": "display_data"
    }
   ],
   "source": [
    "import seaborn as sns\n",
    "import matplotlib.pyplot as plt\n",
    "\n",
    "# Count the occurrences of each category\n",
    "category_counts = train['Frecuency_Salary'].value_counts()\n",
    "\n",
    "# Create a bar chart using Seaborn\n",
    "plt.figure(figsize=(14, 7))\n",
    "sns.set_palette(\"pastel\")  # Setting color palette\n",
    "sns.barplot(x=category_counts.index, y=category_counts)\n",
    "plt.title('Distribution of Frequency Salary')\n",
    "plt.xlabel('Frecuency_Salary')\n",
    "plt.ylabel('Count')\n",
    "\n",
    "plt.show()"
   ]
  },
  {
   "cell_type": "code",
   "execution_count": 9,
   "id": "0a684667",
   "metadata": {},
   "outputs": [
    {
     "data": {
      "image/png": "[encoded data removed]",
      "text/plain": [
       "<Figure size 720x432 with 1 Axes>"
      ]
     },
     "metadata": {
      "needs_background": "light"
     },
     "output_type": "display_data"
    }
   ],
   "source": [
    "import seaborn as sns\n",
    "import matplotlib.pyplot as plt\n",
    "from collections import Counter\n",
    "import numpy as np\n",
    "\n",
    "plt.figure(figsize=(10, 6))\n",
    "sns.barplot(x='Remote', y='Mean_Salary', data=train, ci=None)\n",
    "plt.xlabel('Remote')\n",
    "plt.ylabel('Mean Salary')\n",
    "plt.title('Remote VS Salary')\n",
    "plt.xticks(rotation=45)\n",
    "remote_data = train['Remote'].dropna()\n",
    "\n",
    "# Get counts for each category in Remote column excluding NaN\n",
    "remote_counts = Counter(remote_data)\n",
    "\n",
    "# Annotate the count above each bar\n",
    "for i, bar in enumerate(remote_counts):\n",
    "    plt.text(i, remote_counts[bar] + 1, str(remote_counts[bar]), ha='center', va='bottom')\n",
    "\n",
    "plt.tight_layout()\n",
    "\n",
    "# Show the plot\n",
    "plt.show()\n"
   ]
  },
  {
   "cell_type": "code",
   "execution_count": 10,
   "id": "4c9291fe",
   "metadata": {},
   "outputs": [
    {
     "data": {
      "image/png": "[encoded data removed]",
      "text/plain": [
       "<Figure size 720x432 with 1 Axes>"
      ]
     },
     "metadata": {
      "needs_background": "light"
     },
     "output_type": "display_data"
    }
   ],
   "source": [
    "import seaborn as sns\n",
    "import matplotlib.pyplot as plt\n",
    "from collections import Counter\n",
    "import numpy as np\n",
    "\n",
    "plt.figure(figsize=(10, 6))\n",
    "sns.barplot(x='Profile', y='Mean_Salary', data=train, ci=None)\n",
    "plt.xlabel('Profile')\n",
    "plt.ylabel('Mean Salary')\n",
    "plt.title('Profile VS Salary')\n",
    "plt.xticks(rotation=45)\n",
    "\n",
    "# Exclude NaN values from Profile column\n",
    "profile_data = train['Profile'].dropna()\n",
    "\n",
    "# Get counts for each category in Profile column excluding NaN\n",
    "profile_counts = Counter(profile_data)\n",
    "\n",
    "# Annotate the count above each bar\n",
    "for i, bar in enumerate(profile_counts):\n",
    "    plt.text(i, profile_counts[bar] + 1, str(profile_counts[bar]), ha='center', va='bottom')\n",
    "\n",
    "plt.tight_layout()\n",
    "\n",
    "# Show the plot\n",
    "plt.show()"
   ]
  },
  {
   "cell_type": "markdown",
   "id": "a505f4ed",
   "metadata": {},
   "source": [
    "# ---------------Data Cleaning---------------"
   ]
  },
  {
   "cell_type": "code",
   "execution_count": 11,
   "id": "1f081e81",
   "metadata": {},
   "outputs": [],
   "source": [
    "# Separated the ID column from the Dataframes for reducing errors and to train our model better\n",
    "train_ID = train['ID']\n",
    "train.drop('ID', axis=1, inplace=True)\n",
    "\n",
    "test_ID = test['ID']\n",
    "test.drop('ID', axis=1, inplace=True)"
   ]
  },
  {
   "cell_type": "code",
   "execution_count": 12,
   "id": "8b5bbd57",
   "metadata": {},
   "outputs": [],
   "source": [
    "# Separating our target column\n",
    "y_train = train['Mean_Salary'].values\n",
    "train.drop(columns=['Mean_Salary'], axis=1, inplace=True)"
   ]
  },
  {
   "cell_type": "code",
   "execution_count": 13,
   "id": "00eac62c",
   "metadata": {},
   "outputs": [
    {
     "data": {
      "text/plain": [
       "Jobs_Group          0\n",
       "Profile             0\n",
       "Remote              0\n",
       "Frecuency_Salary    0\n",
       "Skills              0\n",
       "Revenue             0\n",
       "Employee            0\n",
       "Company_Score       0\n",
       "Reviews             0\n",
       "Director_Score      0\n",
       "dtype: int64"
      ]
     },
     "execution_count": 13,
     "metadata": {},
     "output_type": "execute_result"
    }
   ],
   "source": [
    "# Handling Null Values in the train dataframe\n",
    "train['Director_Score'].fillna(np.mean(train['Director_Score']), inplace= True)\n",
    "train['Company_Score'].fillna(np.mean(train['Company_Score']), inplace= True)\n",
    "train['Reviews'].fillna(np.mean(train['Reviews']), inplace= True)\n",
    "train['Profile'].fillna(train[\"Profile\"].mode()[0], inplace=True)\n",
    "train['Remote'].fillna(train[\"Remote\"].mode()[0], inplace=True)\n",
    "train['Revenue'].fillna(train[\"Revenue\"].mode()[0], inplace=True)\n",
    "train['Employee'].fillna(train[\"Employee\"].mode()[0], inplace=True)\n",
    "\n",
    "train['Reviews'] = train['Reviews'].astype('int64')\n",
    "train.isnull().sum()"
   ]
  },
  {
   "cell_type": "code",
   "execution_count": 14,
   "id": "3e8e25d8",
   "metadata": {},
   "outputs": [
    {
     "data": {
      "text/plain": [
       "Jobs_Group          0\n",
       "Profile             0\n",
       "Remote              0\n",
       "Frecuency_Salary    0\n",
       "Skills              0\n",
       "Revenue             0\n",
       "Employee            0\n",
       "Company_Score       0\n",
       "Reviews             0\n",
       "Director_Score      0\n",
       "dtype: int64"
      ]
     },
     "execution_count": 14,
     "metadata": {},
     "output_type": "execute_result"
    }
   ],
   "source": [
    "# Handling Null Values in the test dataframe\n",
    "test['Director_Score'].fillna(np.mean(test['Director_Score']), inplace=True)\n",
    "test['Company_Score'].fillna(np.mean(test['Company_Score']), inplace=True)\n",
    "test['Reviews'].fillna(np.mean(test['Reviews']), inplace=True)\n",
    "test['Profile'].fillna(test[\"Profile\"].mode()[0], inplace=True)\n",
    "test['Remote'].fillna(test[\"Remote\"].mode()[0], inplace=True)\n",
    "test['Revenue'].fillna(test[\"Revenue\"].mode()[0], inplace=True)\n",
    "test['Employee'].fillna(test[\"Employee\"].mode()[0], inplace=True)\n",
    "\n",
    "test['Reviews'] = test['Reviews'].astype('int64')\n",
    "test.isnull().sum()"
   ]
  },
  {
   "cell_type": "markdown",
   "id": "7484b292",
   "metadata": {},
   "source": [
    "# ---------------Handling Skewness---------------"
   ]
  },
  {
   "cell_type": "markdown",
   "id": "34a65bf1",
   "metadata": {},
   "source": [
    "### Train Dataset"
   ]
  },
  {
   "cell_type": "code",
   "execution_count": 15,
   "id": "58f859b8",
   "metadata": {},
   "outputs": [
    {
     "data": {
      "image/png": "[encoded data removed]",
      "text/plain": [
       "<Figure size 576x432 with 1 Axes>"
      ]
     },
     "metadata": {
      "needs_background": "light"
     },
     "output_type": "display_data"
    },
    {
     "data": {
      "image/png": "[encoded data removed]",
      "text/plain": [
       "<Figure size 576x432 with 1 Axes>"
      ]
     },
     "metadata": {
      "needs_background": "light"
     },
     "output_type": "display_data"
    },
    {
     "data": {
      "image/png": "[encoded data removed]",
      "text/plain": [
       "<Figure size 576x432 with 1 Axes>"
      ]
     },
     "metadata": {
      "needs_background": "light"
     },
     "output_type": "display_data"
    }
   ],
   "source": [
    "import seaborn as sns\n",
    "import matplotlib.pyplot as plt\n",
    "\n",
    "# List of columns(continuous variables) for finding skewness\n",
    "col = ['Director_Score', 'Company_Score', 'Reviews']\n",
    "\n",
    "for i in col:\n",
    "    plt.figure(figsize=(8, 6))  \n",
    "    sns.boxplot(data=train, x=i)\n",
    "    plt.title(f'Boxplot of {i}')\n",
    "    plt.xlabel(i)\n",
    "    plt.show()"
   ]
  },
  {
   "cell_type": "code",
   "execution_count": 16,
   "id": "a613af66",
   "metadata": {},
   "outputs": [
    {
     "data": {
      "image/png": "[encoded data removed]",
      "text/plain": [
       "<Figure size 432x288 with 1 Axes>"
      ]
     },
     "metadata": {
      "needs_background": "light"
     },
     "output_type": "display_data"
    },
    {
     "data": {
      "image/png": "[encoded data removed]",
      "text/plain": [
       "<Figure size 432x288 with 1 Axes>"
      ]
     },
     "metadata": {
      "needs_background": "light"
     },
     "output_type": "display_data"
    },
    {
     "data": {
      "image/png": "[encoded data removed]",
      "text/plain": [
       "<Figure size 432x288 with 1 Axes>"
      ]
     },
     "metadata": {
      "needs_background": "light"
     },
     "output_type": "display_data"
    }
   ],
   "source": [
    "from sklearn.preprocessing import PowerTransformer\n",
    "pt = PowerTransformer(method='yeo-johnson')\n",
    "\n",
    "transformed_feature = pt.fit_transform(train[['Director_Score']])\n",
    "train['Director_Score'] = transformed_feature\n",
    "sns.boxplot(x='Director_Score', data=train)\n",
    "plt.show()\n",
    "\n",
    "transformed_feature = pt.fit_transform(train[['Company_Score']])\n",
    "train['Company_Score'] = transformed_feature\n",
    "sns.boxplot(x='Company_Score', data=train)\n",
    "plt.show()\n",
    "\n",
    "transformed_feature = pt.fit_transform(train[['Reviews']])\n",
    "train['Reviews'] = transformed_feature\n",
    "sns.boxplot(x='Reviews', data=train)\n",
    "plt.show()"
   ]
  },
  {
   "cell_type": "markdown",
   "id": "4ce75c53",
   "metadata": {},
   "source": [
    "### Test Dataset"
   ]
  },
  {
   "cell_type": "code",
   "execution_count": 17,
   "id": "f153928a",
   "metadata": {},
   "outputs": [
    {
     "data": {
      "image/png": "[encoded data removed]",
      "text/plain": [
       "<Figure size 576x432 with 1 Axes>"
      ]
     },
     "metadata": {
      "needs_background": "light"
     },
     "output_type": "display_data"
    },
    {
     "data": {
      "image/png": "[encoded data removed]",
      "text/plain": [
       "<Figure size 576x432 with 1 Axes>"
      ]
     },
     "metadata": {
      "needs_background": "light"
     },
     "output_type": "display_data"
    },
    {
     "data": {
      "image/png": "[encoded data removed]",
      "text/plain": [
       "<Figure size 576x432 with 1 Axes>"
      ]
     },
     "metadata": {
      "needs_background": "light"
     },
     "output_type": "display_data"
    }
   ],
   "source": [
    "import seaborn as sns\n",
    "import matplotlib.pyplot as plt\n",
    "\n",
    "# List of columns(continuous variables) for finding skewness\n",
    "col = ['Director_Score', 'Company_Score', 'Reviews']\n",
    "\n",
    "for i in col:\n",
    "    plt.figure(figsize=(8, 6))  \n",
    "    sns.boxplot(data=test, x=i)\n",
    "    plt.title(f'Boxplot of {i}')\n",
    "    plt.xlabel(i)\n",
    "    plt.show()"
   ]
  },
  {
   "cell_type": "code",
   "execution_count": 18,
   "id": "1a9426f9",
   "metadata": {},
   "outputs": [
    {
     "data": {
      "image/png": "[encoded data removed]",
      "text/plain": [
       "<Figure size 432x288 with 1 Axes>"
      ]
     },
     "metadata": {
      "needs_background": "light"
     },
     "output_type": "display_data"
    },
    {
     "data": {
      "image/png": "[encoded data removed]",
      "text/plain": [
       "<Figure size 432x288 with 1 Axes>"
      ]
     },
     "metadata": {
      "needs_background": "light"
     },
     "output_type": "display_data"
    },
    {
     "data": {
      "image/png": "[encoded data removed]",
      "text/plain": [
       "<Figure size 432x288 with 1 Axes>"
      ]
     },
     "metadata": {
      "needs_background": "light"
     },
     "output_type": "display_data"
    }
   ],
   "source": [
    "from sklearn.preprocessing import PowerTransformer\n",
    "pt = PowerTransformer(method='yeo-johnson')\n",
    "\n",
    "transformed_feature = pt.fit_transform(test[['Director_Score']])\n",
    "test['Director_Score'] = transformed_feature\n",
    "sns.boxplot(x='Director_Score', data=test)\n",
    "plt.show()\n",
    "\n",
    "transformed_feature = pt.fit_transform(test[['Company_Score']])\n",
    "test['Company_Score'] = transformed_feature\n",
    "sns.boxplot(x='Company_Score', data=test)\n",
    "plt.show()\n",
    "\n",
    "transformed_feature = pt.fit_transform(test[['Reviews']])\n",
    "test['Reviews'] = transformed_feature\n",
    "sns.boxplot(x='Reviews', data=test)\n",
    "plt.show()"
   ]
  },
  {
   "cell_type": "markdown",
   "id": "762a5329",
   "metadata": {},
   "source": [
    "# ---------------Data Encoding---------------"
   ]
  },
  {
   "cell_type": "code",
   "execution_count": 19,
   "id": "9e41d68a",
   "metadata": {},
   "outputs": [],
   "source": [
    "# One-hot Encoding the required columns in the Dataframe\n",
    "train = pd.get_dummies(train, columns=['Jobs_Group', 'Frecuency_Salary', 'Remote', 'Profile', 'Revenue', 'Employee'])\n",
    "\n",
    "test = pd.get_dummies(test, columns=['Jobs_Group', 'Frecuency_Salary', 'Remote', 'Profile', 'Revenue', 'Employee'])"
   ]
  },
  {
   "cell_type": "code",
   "execution_count": 20,
   "id": "afe93c56",
   "metadata": {},
   "outputs": [],
   "source": [
    "# Label Encoding the required columns in the Dataframe\n",
    "label_encoder = LabelEncoder()\n",
    "train['Skills'] = train['Skills'].str.strip('[]').str.replace(\"'\", '')\n",
    "train['Skills'] = train['Skills'].fillna(0)\n",
    "train['Skills'] = label_encoder.fit_transform(train['Skills'])\n",
    "\n",
    "test['Skills'] = test['Skills'].str.strip('[]').str.replace(\"'\", '')\n",
    "test['Skills'] = test['Skills'].fillna(0)\n",
    "test['Skills'] = label_encoder.fit_transform(test['Skills'])"
   ]
  },
  {
   "cell_type": "code",
   "execution_count": 21,
   "id": "8da78b7d",
   "metadata": {},
   "outputs": [],
   "source": [
    "columns_to_convert = ['Jobs_Group_Analyst', 'Jobs_Group_Business Analyst',\n",
    "       'Jobs_Group_Business Intelligence', 'Jobs_Group_CFO',\n",
    "       'Jobs_Group_Controller', 'Jobs_Group_Data Analyst',\n",
    "       'Jobs_Group_Data Engineer', 'Jobs_Group_Data Scientist',\n",
    "       'Jobs_Group_Finance', 'Jobs_Group_Financial Analyst',\n",
    "       'Jobs_Group_ML/AI Engineer', 'Jobs_Group_Operations Analyst',\n",
    "       'Jobs_Group_Others', 'Jobs_Group_Statistician/Mathemathics',\n",
    "       'Frecuency_Salary_day', 'Frecuency_Salary_hour',\n",
    "       'Frecuency_Salary_month', 'Frecuency_Salary_week',\n",
    "       'Frecuency_Salary_year', 'Remote_Hybrid', 'Remote_Remote',\n",
    "       'Profile_Junior', 'Profile_Lead', 'Profile_Senior', 'Revenue_L',\n",
    "       'Revenue_M', 'Revenue_S', 'Revenue_XL', 'Revenue_XS', 'Revenue_XXL',\n",
    "       'Revenue_XXS', 'Revenue_XXXL', 'Revenue_XXXS', 'Employee_L',\n",
    "       'Employee_M', 'Employee_S', 'Employee_XL', 'Employee_XS',\n",
    "       'Employee_XXL', 'Employee_XXS', 'Employee_XXXL', 'Employee_XXXS']\n",
    "\n",
    "# Converting True to 1 and False to 0 in specified columns\n",
    "train[columns_to_convert] = train[columns_to_convert].astype(int)\n",
    "test[columns_to_convert] = test[columns_to_convert].astype(int)"
   ]
  },
  {
   "cell_type": "code",
   "execution_count": 22,
   "id": "31a3c8c9",
   "metadata": {},
   "outputs": [],
   "source": [
    "from sklearn.preprocessing import RobustScaler\n",
    "\n",
    "# Scaling the data for further reducing error and increasing the data understanding for the ML Algorithm\n",
    "scaler = RobustScaler()\n",
    "train = scaler.fit_transform(train)\n",
    "test = scaler.fit_transform(test)"
   ]
  },
  {
   "cell_type": "code",
   "execution_count": 23,
   "id": "916f1edc",
   "metadata": {},
   "outputs": [],
   "source": [
    "train = pd.DataFrame(train)\n",
    "test = pd.DataFrame(test)"
   ]
  },
  {
   "cell_type": "code",
   "execution_count": 24,
   "id": "f9939bdb",
   "metadata": {},
   "outputs": [
    {
     "data": {
      "text/html": [
       "<div>\n",
       "<style scoped>\n",
       "    .dataframe tbody tr th:only-of-type {\n",
       "        vertical-align: middle;\n",
       "    }\n",
       "\n",
       "    .dataframe tbody tr th {\n",
       "        vertical-align: top;\n",
       "    }\n",
       "\n",
       "    .dataframe thead th {\n",
       "        text-align: right;\n",
       "    }\n",
       "</style>\n",
       "<table border=\"1\" class=\"dataframe\">\n",
       "  <thead>\n",
       "    <tr style=\"text-align: right;\">\n",
       "      <th></th>\n",
       "      <th>0</th>\n",
       "      <th>1</th>\n",
       "      <th>2</th>\n",
       "      <th>3</th>\n",
       "      <th>4</th>\n",
       "      <th>5</th>\n",
       "      <th>6</th>\n",
       "      <th>7</th>\n",
       "      <th>8</th>\n",
       "      <th>9</th>\n",
       "      <th>10</th>\n",
       "      <th>11</th>\n",
       "      <th>12</th>\n",
       "      <th>13</th>\n",
       "      <th>14</th>\n",
       "      <th>15</th>\n",
       "      <th>16</th>\n",
       "      <th>17</th>\n",
       "      <th>18</th>\n",
       "      <th>19</th>\n",
       "      <th>20</th>\n",
       "      <th>21</th>\n",
       "      <th>22</th>\n",
       "      <th>23</th>\n",
       "      <th>24</th>\n",
       "      <th>25</th>\n",
       "      <th>26</th>\n",
       "      <th>27</th>\n",
       "      <th>28</th>\n",
       "      <th>29</th>\n",
       "      <th>30</th>\n",
       "      <th>31</th>\n",
       "      <th>32</th>\n",
       "      <th>33</th>\n",
       "      <th>34</th>\n",
       "      <th>35</th>\n",
       "      <th>36</th>\n",
       "      <th>37</th>\n",
       "      <th>38</th>\n",
       "      <th>39</th>\n",
       "      <th>40</th>\n",
       "      <th>41</th>\n",
       "      <th>42</th>\n",
       "      <th>43</th>\n",
       "      <th>44</th>\n",
       "      <th>45</th>\n",
       "    </tr>\n",
       "  </thead>\n",
       "  <tbody>\n",
       "    <tr>\n",
       "      <th>0</th>\n",
       "      <td>1.148491</td>\n",
       "      <td>1.444106</td>\n",
       "      <td>-0.656653</td>\n",
       "      <td>0.000000</td>\n",
       "      <td>0.0</td>\n",
       "      <td>0.0</td>\n",
       "      <td>0.0</td>\n",
       "      <td>0.0</td>\n",
       "      <td>0.0</td>\n",
       "      <td>0.0</td>\n",
       "      <td>0.0</td>\n",
       "      <td>0.0</td>\n",
       "      <td>0.0</td>\n",
       "      <td>1.0</td>\n",
       "      <td>0.0</td>\n",
       "      <td>0.0</td>\n",
       "      <td>0.0</td>\n",
       "      <td>0.0</td>\n",
       "      <td>0.0</td>\n",
       "      <td>1.0</td>\n",
       "      <td>0.0</td>\n",
       "      <td>0.0</td>\n",
       "      <td>-1.0</td>\n",
       "      <td>0.0</td>\n",
       "      <td>0.0</td>\n",
       "      <td>0.0</td>\n",
       "      <td>0.0</td>\n",
       "      <td>0.0</td>\n",
       "      <td>0.0</td>\n",
       "      <td>0.0</td>\n",
       "      <td>0.0</td>\n",
       "      <td>0.0</td>\n",
       "      <td>0.0</td>\n",
       "      <td>0.0</td>\n",
       "      <td>0.0</td>\n",
       "      <td>0.0</td>\n",
       "      <td>0.0</td>\n",
       "      <td>0.0</td>\n",
       "      <td>0.0</td>\n",
       "      <td>0.0</td>\n",
       "      <td>0.0</td>\n",
       "      <td>1.0</td>\n",
       "      <td>0.0</td>\n",
       "      <td>0.0</td>\n",
       "      <td>-1.0</td>\n",
       "      <td>0.0</td>\n",
       "    </tr>\n",
       "    <tr>\n",
       "      <th>1</th>\n",
       "      <td>1.037347</td>\n",
       "      <td>-0.384136</td>\n",
       "      <td>-0.462183</td>\n",
       "      <td>-0.748426</td>\n",
       "      <td>0.0</td>\n",
       "      <td>0.0</td>\n",
       "      <td>0.0</td>\n",
       "      <td>0.0</td>\n",
       "      <td>1.0</td>\n",
       "      <td>0.0</td>\n",
       "      <td>0.0</td>\n",
       "      <td>0.0</td>\n",
       "      <td>0.0</td>\n",
       "      <td>0.0</td>\n",
       "      <td>0.0</td>\n",
       "      <td>0.0</td>\n",
       "      <td>0.0</td>\n",
       "      <td>0.0</td>\n",
       "      <td>0.0</td>\n",
       "      <td>0.0</td>\n",
       "      <td>0.0</td>\n",
       "      <td>0.0</td>\n",
       "      <td>0.0</td>\n",
       "      <td>0.0</td>\n",
       "      <td>0.0</td>\n",
       "      <td>0.0</td>\n",
       "      <td>0.0</td>\n",
       "      <td>0.0</td>\n",
       "      <td>0.0</td>\n",
       "      <td>0.0</td>\n",
       "      <td>0.0</td>\n",
       "      <td>0.0</td>\n",
       "      <td>0.0</td>\n",
       "      <td>0.0</td>\n",
       "      <td>0.0</td>\n",
       "      <td>0.0</td>\n",
       "      <td>0.0</td>\n",
       "      <td>0.0</td>\n",
       "      <td>1.0</td>\n",
       "      <td>0.0</td>\n",
       "      <td>0.0</td>\n",
       "      <td>0.0</td>\n",
       "      <td>0.0</td>\n",
       "      <td>0.0</td>\n",
       "      <td>-1.0</td>\n",
       "      <td>0.0</td>\n",
       "    </tr>\n",
       "    <tr>\n",
       "      <th>2</th>\n",
       "      <td>1.316659</td>\n",
       "      <td>-0.615904</td>\n",
       "      <td>-0.380281</td>\n",
       "      <td>0.000000</td>\n",
       "      <td>0.0</td>\n",
       "      <td>0.0</td>\n",
       "      <td>0.0</td>\n",
       "      <td>0.0</td>\n",
       "      <td>0.0</td>\n",
       "      <td>0.0</td>\n",
       "      <td>0.0</td>\n",
       "      <td>0.0</td>\n",
       "      <td>0.0</td>\n",
       "      <td>1.0</td>\n",
       "      <td>0.0</td>\n",
       "      <td>0.0</td>\n",
       "      <td>0.0</td>\n",
       "      <td>0.0</td>\n",
       "      <td>0.0</td>\n",
       "      <td>0.0</td>\n",
       "      <td>0.0</td>\n",
       "      <td>0.0</td>\n",
       "      <td>0.0</td>\n",
       "      <td>0.0</td>\n",
       "      <td>0.0</td>\n",
       "      <td>0.0</td>\n",
       "      <td>0.0</td>\n",
       "      <td>0.0</td>\n",
       "      <td>0.0</td>\n",
       "      <td>0.0</td>\n",
       "      <td>0.0</td>\n",
       "      <td>0.0</td>\n",
       "      <td>0.0</td>\n",
       "      <td>0.0</td>\n",
       "      <td>0.0</td>\n",
       "      <td>-1.0</td>\n",
       "      <td>1.0</td>\n",
       "      <td>0.0</td>\n",
       "      <td>0.0</td>\n",
       "      <td>0.0</td>\n",
       "      <td>0.0</td>\n",
       "      <td>0.0</td>\n",
       "      <td>0.0</td>\n",
       "      <td>0.0</td>\n",
       "      <td>-1.0</td>\n",
       "      <td>1.0</td>\n",
       "    </tr>\n",
       "    <tr>\n",
       "      <th>3</th>\n",
       "      <td>0.331555</td>\n",
       "      <td>0.354804</td>\n",
       "      <td>-0.585186</td>\n",
       "      <td>-0.748426</td>\n",
       "      <td>0.0</td>\n",
       "      <td>0.0</td>\n",
       "      <td>1.0</td>\n",
       "      <td>0.0</td>\n",
       "      <td>0.0</td>\n",
       "      <td>0.0</td>\n",
       "      <td>0.0</td>\n",
       "      <td>0.0</td>\n",
       "      <td>0.0</td>\n",
       "      <td>0.0</td>\n",
       "      <td>0.0</td>\n",
       "      <td>0.0</td>\n",
       "      <td>0.0</td>\n",
       "      <td>0.0</td>\n",
       "      <td>0.0</td>\n",
       "      <td>0.0</td>\n",
       "      <td>0.0</td>\n",
       "      <td>0.0</td>\n",
       "      <td>0.0</td>\n",
       "      <td>1.0</td>\n",
       "      <td>-1.0</td>\n",
       "      <td>0.0</td>\n",
       "      <td>0.0</td>\n",
       "      <td>0.0</td>\n",
       "      <td>0.0</td>\n",
       "      <td>0.0</td>\n",
       "      <td>0.0</td>\n",
       "      <td>0.0</td>\n",
       "      <td>0.0</td>\n",
       "      <td>1.0</td>\n",
       "      <td>0.0</td>\n",
       "      <td>-1.0</td>\n",
       "      <td>0.0</td>\n",
       "      <td>0.0</td>\n",
       "      <td>0.0</td>\n",
       "      <td>0.0</td>\n",
       "      <td>1.0</td>\n",
       "      <td>0.0</td>\n",
       "      <td>0.0</td>\n",
       "      <td>0.0</td>\n",
       "      <td>-1.0</td>\n",
       "      <td>0.0</td>\n",
       "    </tr>\n",
       "    <tr>\n",
       "      <th>4</th>\n",
       "      <td>-0.003585</td>\n",
       "      <td>1.444106</td>\n",
       "      <td>-0.225472</td>\n",
       "      <td>1.826572</td>\n",
       "      <td>0.0</td>\n",
       "      <td>0.0</td>\n",
       "      <td>0.0</td>\n",
       "      <td>0.0</td>\n",
       "      <td>0.0</td>\n",
       "      <td>0.0</td>\n",
       "      <td>0.0</td>\n",
       "      <td>0.0</td>\n",
       "      <td>0.0</td>\n",
       "      <td>0.0</td>\n",
       "      <td>0.0</td>\n",
       "      <td>1.0</td>\n",
       "      <td>0.0</td>\n",
       "      <td>0.0</td>\n",
       "      <td>0.0</td>\n",
       "      <td>1.0</td>\n",
       "      <td>0.0</td>\n",
       "      <td>0.0</td>\n",
       "      <td>-1.0</td>\n",
       "      <td>0.0</td>\n",
       "      <td>0.0</td>\n",
       "      <td>0.0</td>\n",
       "      <td>0.0</td>\n",
       "      <td>0.0</td>\n",
       "      <td>0.0</td>\n",
       "      <td>0.0</td>\n",
       "      <td>0.0</td>\n",
       "      <td>0.0</td>\n",
       "      <td>0.0</td>\n",
       "      <td>0.0</td>\n",
       "      <td>0.0</td>\n",
       "      <td>0.0</td>\n",
       "      <td>0.0</td>\n",
       "      <td>0.0</td>\n",
       "      <td>0.0</td>\n",
       "      <td>0.0</td>\n",
       "      <td>1.0</td>\n",
       "      <td>0.0</td>\n",
       "      <td>0.0</td>\n",
       "      <td>0.0</td>\n",
       "      <td>-1.0</td>\n",
       "      <td>0.0</td>\n",
       "    </tr>\n",
       "  </tbody>\n",
       "</table>\n",
       "</div>"
      ],
      "text/plain": [
       "         0         1         2         3    4    5    6    7    8    9    10  \\\n",
       "0  1.148491  1.444106 -0.656653  0.000000  0.0  0.0  0.0  0.0  0.0  0.0  0.0   \n",
       "1  1.037347 -0.384136 -0.462183 -0.748426  0.0  0.0  0.0  0.0  1.0  0.0  0.0   \n",
       "2  1.316659 -0.615904 -0.380281  0.000000  0.0  0.0  0.0  0.0  0.0  0.0  0.0   \n",
       "3  0.331555  0.354804 -0.585186 -0.748426  0.0  0.0  1.0  0.0  0.0  0.0  0.0   \n",
       "4 -0.003585  1.444106 -0.225472  1.826572  0.0  0.0  0.0  0.0  0.0  0.0  0.0   \n",
       "\n",
       "    11   12   13   14   15   16   17   18   19   20   21   22   23   24   25  \\\n",
       "0  0.0  0.0  1.0  0.0  0.0  0.0  0.0  0.0  1.0  0.0  0.0 -1.0  0.0  0.0  0.0   \n",
       "1  0.0  0.0  0.0  0.0  0.0  0.0  0.0  0.0  0.0  0.0  0.0  0.0  0.0  0.0  0.0   \n",
       "2  0.0  0.0  1.0  0.0  0.0  0.0  0.0  0.0  0.0  0.0  0.0  0.0  0.0  0.0  0.0   \n",
       "3  0.0  0.0  0.0  0.0  0.0  0.0  0.0  0.0  0.0  0.0  0.0  0.0  1.0 -1.0  0.0   \n",
       "4  0.0  0.0  0.0  0.0  1.0  0.0  0.0  0.0  1.0  0.0  0.0 -1.0  0.0  0.0  0.0   \n",
       "\n",
       "    26   27   28   29   30   31   32   33   34   35   36   37   38   39   40  \\\n",
       "0  0.0  0.0  0.0  0.0  0.0  0.0  0.0  0.0  0.0  0.0  0.0  0.0  0.0  0.0  0.0   \n",
       "1  0.0  0.0  0.0  0.0  0.0  0.0  0.0  0.0  0.0  0.0  0.0  0.0  1.0  0.0  0.0   \n",
       "2  0.0  0.0  0.0  0.0  0.0  0.0  0.0  0.0  0.0 -1.0  1.0  0.0  0.0  0.0  0.0   \n",
       "3  0.0  0.0  0.0  0.0  0.0  0.0  0.0  1.0  0.0 -1.0  0.0  0.0  0.0  0.0  1.0   \n",
       "4  0.0  0.0  0.0  0.0  0.0  0.0  0.0  0.0  0.0  0.0  0.0  0.0  0.0  0.0  1.0   \n",
       "\n",
       "    41   42   43   44   45  \n",
       "0  1.0  0.0  0.0 -1.0  0.0  \n",
       "1  0.0  0.0  0.0 -1.0  0.0  \n",
       "2  0.0  0.0  0.0 -1.0  1.0  \n",
       "3  0.0  0.0  0.0 -1.0  0.0  \n",
       "4  0.0  0.0  0.0 -1.0  0.0  "
      ]
     },
     "execution_count": 24,
     "metadata": {},
     "output_type": "execute_result"
    }
   ],
   "source": [
    "train.head()"
   ]
  },
  {
   "cell_type": "code",
   "execution_count": 25,
   "id": "bb6148bb",
   "metadata": {},
   "outputs": [
    {
     "data": {
      "text/html": [
       "<div>\n",
       "<style scoped>\n",
       "    .dataframe tbody tr th:only-of-type {\n",
       "        vertical-align: middle;\n",
       "    }\n",
       "\n",
       "    .dataframe tbody tr th {\n",
       "        vertical-align: top;\n",
       "    }\n",
       "\n",
       "    .dataframe thead th {\n",
       "        text-align: right;\n",
       "    }\n",
       "</style>\n",
       "<table border=\"1\" class=\"dataframe\">\n",
       "  <thead>\n",
       "    <tr style=\"text-align: right;\">\n",
       "      <th></th>\n",
       "      <th>0</th>\n",
       "      <th>1</th>\n",
       "      <th>2</th>\n",
       "      <th>3</th>\n",
       "      <th>4</th>\n",
       "      <th>5</th>\n",
       "      <th>6</th>\n",
       "      <th>7</th>\n",
       "      <th>8</th>\n",
       "      <th>9</th>\n",
       "      <th>10</th>\n",
       "      <th>11</th>\n",
       "      <th>12</th>\n",
       "      <th>13</th>\n",
       "      <th>14</th>\n",
       "      <th>15</th>\n",
       "      <th>16</th>\n",
       "      <th>17</th>\n",
       "      <th>18</th>\n",
       "      <th>19</th>\n",
       "      <th>20</th>\n",
       "      <th>21</th>\n",
       "      <th>22</th>\n",
       "      <th>23</th>\n",
       "      <th>24</th>\n",
       "      <th>25</th>\n",
       "      <th>26</th>\n",
       "      <th>27</th>\n",
       "      <th>28</th>\n",
       "      <th>29</th>\n",
       "      <th>30</th>\n",
       "      <th>31</th>\n",
       "      <th>32</th>\n",
       "      <th>33</th>\n",
       "      <th>34</th>\n",
       "      <th>35</th>\n",
       "      <th>36</th>\n",
       "      <th>37</th>\n",
       "      <th>38</th>\n",
       "      <th>39</th>\n",
       "      <th>40</th>\n",
       "      <th>41</th>\n",
       "      <th>42</th>\n",
       "      <th>43</th>\n",
       "      <th>44</th>\n",
       "      <th>45</th>\n",
       "    </tr>\n",
       "  </thead>\n",
       "  <tbody>\n",
       "    <tr>\n",
       "      <th>0</th>\n",
       "      <td>0.274298</td>\n",
       "      <td>4.006712</td>\n",
       "      <td>-0.987182</td>\n",
       "      <td>0.000000</td>\n",
       "      <td>0.0</td>\n",
       "      <td>1.0</td>\n",
       "      <td>0.0</td>\n",
       "      <td>0.0</td>\n",
       "      <td>0.0</td>\n",
       "      <td>0.0</td>\n",
       "      <td>0.0</td>\n",
       "      <td>0.0</td>\n",
       "      <td>0.0</td>\n",
       "      <td>0.0</td>\n",
       "      <td>0.0</td>\n",
       "      <td>0.0</td>\n",
       "      <td>0.0</td>\n",
       "      <td>0.0</td>\n",
       "      <td>0.0</td>\n",
       "      <td>0.0</td>\n",
       "      <td>0.0</td>\n",
       "      <td>0.0</td>\n",
       "      <td>0.0</td>\n",
       "      <td>0.0</td>\n",
       "      <td>0.0</td>\n",
       "      <td>0.0</td>\n",
       "      <td>1.0</td>\n",
       "      <td>-1.0</td>\n",
       "      <td>0.0</td>\n",
       "      <td>0.0</td>\n",
       "      <td>0.0</td>\n",
       "      <td>0.0</td>\n",
       "      <td>0.0</td>\n",
       "      <td>0.0</td>\n",
       "      <td>0.0</td>\n",
       "      <td>0.0</td>\n",
       "      <td>0.0</td>\n",
       "      <td>0.0</td>\n",
       "      <td>0.0</td>\n",
       "      <td>0.0</td>\n",
       "      <td>0.0</td>\n",
       "      <td>0.0</td>\n",
       "      <td>0.0</td>\n",
       "      <td>0.0</td>\n",
       "      <td>0.0</td>\n",
       "      <td>0.0</td>\n",
       "    </tr>\n",
       "    <tr>\n",
       "      <th>1</th>\n",
       "      <td>0.267158</td>\n",
       "      <td>0.000000</td>\n",
       "      <td>0.412090</td>\n",
       "      <td>0.000000</td>\n",
       "      <td>0.0</td>\n",
       "      <td>0.0</td>\n",
       "      <td>0.0</td>\n",
       "      <td>0.0</td>\n",
       "      <td>0.0</td>\n",
       "      <td>0.0</td>\n",
       "      <td>0.0</td>\n",
       "      <td>0.0</td>\n",
       "      <td>0.0</td>\n",
       "      <td>1.0</td>\n",
       "      <td>0.0</td>\n",
       "      <td>0.0</td>\n",
       "      <td>0.0</td>\n",
       "      <td>0.0</td>\n",
       "      <td>0.0</td>\n",
       "      <td>0.0</td>\n",
       "      <td>0.0</td>\n",
       "      <td>0.0</td>\n",
       "      <td>0.0</td>\n",
       "      <td>0.0</td>\n",
       "      <td>0.0</td>\n",
       "      <td>0.0</td>\n",
       "      <td>0.0</td>\n",
       "      <td>0.0</td>\n",
       "      <td>0.0</td>\n",
       "      <td>0.0</td>\n",
       "      <td>0.0</td>\n",
       "      <td>0.0</td>\n",
       "      <td>0.0</td>\n",
       "      <td>0.0</td>\n",
       "      <td>0.0</td>\n",
       "      <td>0.0</td>\n",
       "      <td>0.0</td>\n",
       "      <td>0.0</td>\n",
       "      <td>0.0</td>\n",
       "      <td>0.0</td>\n",
       "      <td>0.0</td>\n",
       "      <td>1.0</td>\n",
       "      <td>0.0</td>\n",
       "      <td>0.0</td>\n",
       "      <td>-1.0</td>\n",
       "      <td>0.0</td>\n",
       "    </tr>\n",
       "    <tr>\n",
       "      <th>2</th>\n",
       "      <td>1.242976</td>\n",
       "      <td>0.000000</td>\n",
       "      <td>0.412090</td>\n",
       "      <td>0.000000</td>\n",
       "      <td>0.0</td>\n",
       "      <td>0.0</td>\n",
       "      <td>0.0</td>\n",
       "      <td>0.0</td>\n",
       "      <td>0.0</td>\n",
       "      <td>0.0</td>\n",
       "      <td>0.0</td>\n",
       "      <td>0.0</td>\n",
       "      <td>0.0</td>\n",
       "      <td>0.0</td>\n",
       "      <td>1.0</td>\n",
       "      <td>0.0</td>\n",
       "      <td>0.0</td>\n",
       "      <td>0.0</td>\n",
       "      <td>0.0</td>\n",
       "      <td>0.0</td>\n",
       "      <td>0.0</td>\n",
       "      <td>0.0</td>\n",
       "      <td>0.0</td>\n",
       "      <td>1.0</td>\n",
       "      <td>-1.0</td>\n",
       "      <td>0.0</td>\n",
       "      <td>0.0</td>\n",
       "      <td>0.0</td>\n",
       "      <td>0.0</td>\n",
       "      <td>0.0</td>\n",
       "      <td>0.0</td>\n",
       "      <td>0.0</td>\n",
       "      <td>0.0</td>\n",
       "      <td>0.0</td>\n",
       "      <td>0.0</td>\n",
       "      <td>0.0</td>\n",
       "      <td>0.0</td>\n",
       "      <td>0.0</td>\n",
       "      <td>0.0</td>\n",
       "      <td>0.0</td>\n",
       "      <td>0.0</td>\n",
       "      <td>0.0</td>\n",
       "      <td>0.0</td>\n",
       "      <td>0.0</td>\n",
       "      <td>0.0</td>\n",
       "      <td>0.0</td>\n",
       "    </tr>\n",
       "    <tr>\n",
       "      <th>3</th>\n",
       "      <td>-0.129203</td>\n",
       "      <td>0.896037</td>\n",
       "      <td>-0.138820</td>\n",
       "      <td>0.548209</td>\n",
       "      <td>0.0</td>\n",
       "      <td>0.0</td>\n",
       "      <td>0.0</td>\n",
       "      <td>0.0</td>\n",
       "      <td>0.0</td>\n",
       "      <td>0.0</td>\n",
       "      <td>0.0</td>\n",
       "      <td>1.0</td>\n",
       "      <td>0.0</td>\n",
       "      <td>0.0</td>\n",
       "      <td>0.0</td>\n",
       "      <td>0.0</td>\n",
       "      <td>0.0</td>\n",
       "      <td>0.0</td>\n",
       "      <td>0.0</td>\n",
       "      <td>0.0</td>\n",
       "      <td>0.0</td>\n",
       "      <td>0.0</td>\n",
       "      <td>0.0</td>\n",
       "      <td>0.0</td>\n",
       "      <td>0.0</td>\n",
       "      <td>0.0</td>\n",
       "      <td>0.0</td>\n",
       "      <td>0.0</td>\n",
       "      <td>0.0</td>\n",
       "      <td>0.0</td>\n",
       "      <td>0.0</td>\n",
       "      <td>1.0</td>\n",
       "      <td>0.0</td>\n",
       "      <td>0.0</td>\n",
       "      <td>0.0</td>\n",
       "      <td>-1.0</td>\n",
       "      <td>0.0</td>\n",
       "      <td>0.0</td>\n",
       "      <td>0.0</td>\n",
       "      <td>0.0</td>\n",
       "      <td>1.0</td>\n",
       "      <td>0.0</td>\n",
       "      <td>0.0</td>\n",
       "      <td>0.0</td>\n",
       "      <td>-1.0</td>\n",
       "      <td>0.0</td>\n",
       "    </tr>\n",
       "    <tr>\n",
       "      <th>4</th>\n",
       "      <td>0.269231</td>\n",
       "      <td>0.000000</td>\n",
       "      <td>0.412090</td>\n",
       "      <td>0.000000</td>\n",
       "      <td>0.0</td>\n",
       "      <td>0.0</td>\n",
       "      <td>0.0</td>\n",
       "      <td>0.0</td>\n",
       "      <td>0.0</td>\n",
       "      <td>0.0</td>\n",
       "      <td>0.0</td>\n",
       "      <td>0.0</td>\n",
       "      <td>0.0</td>\n",
       "      <td>1.0</td>\n",
       "      <td>0.0</td>\n",
       "      <td>0.0</td>\n",
       "      <td>0.0</td>\n",
       "      <td>0.0</td>\n",
       "      <td>0.0</td>\n",
       "      <td>0.0</td>\n",
       "      <td>0.0</td>\n",
       "      <td>0.0</td>\n",
       "      <td>0.0</td>\n",
       "      <td>0.0</td>\n",
       "      <td>0.0</td>\n",
       "      <td>0.0</td>\n",
       "      <td>0.0</td>\n",
       "      <td>0.0</td>\n",
       "      <td>0.0</td>\n",
       "      <td>0.0</td>\n",
       "      <td>0.0</td>\n",
       "      <td>0.0</td>\n",
       "      <td>0.0</td>\n",
       "      <td>0.0</td>\n",
       "      <td>0.0</td>\n",
       "      <td>0.0</td>\n",
       "      <td>0.0</td>\n",
       "      <td>0.0</td>\n",
       "      <td>0.0</td>\n",
       "      <td>0.0</td>\n",
       "      <td>0.0</td>\n",
       "      <td>0.0</td>\n",
       "      <td>0.0</td>\n",
       "      <td>0.0</td>\n",
       "      <td>0.0</td>\n",
       "      <td>0.0</td>\n",
       "    </tr>\n",
       "  </tbody>\n",
       "</table>\n",
       "</div>"
      ],
      "text/plain": [
       "         0         1         2         3    4    5    6    7    8    9    10  \\\n",
       "0  0.274298  4.006712 -0.987182  0.000000  0.0  1.0  0.0  0.0  0.0  0.0  0.0   \n",
       "1  0.267158  0.000000  0.412090  0.000000  0.0  0.0  0.0  0.0  0.0  0.0  0.0   \n",
       "2  1.242976  0.000000  0.412090  0.000000  0.0  0.0  0.0  0.0  0.0  0.0  0.0   \n",
       "3 -0.129203  0.896037 -0.138820  0.548209  0.0  0.0  0.0  0.0  0.0  0.0  0.0   \n",
       "4  0.269231  0.000000  0.412090  0.000000  0.0  0.0  0.0  0.0  0.0  0.0  0.0   \n",
       "\n",
       "    11   12   13   14   15   16   17   18   19   20   21   22   23   24   25  \\\n",
       "0  0.0  0.0  0.0  0.0  0.0  0.0  0.0  0.0  0.0  0.0  0.0  0.0  0.0  0.0  0.0   \n",
       "1  0.0  0.0  1.0  0.0  0.0  0.0  0.0  0.0  0.0  0.0  0.0  0.0  0.0  0.0  0.0   \n",
       "2  0.0  0.0  0.0  1.0  0.0  0.0  0.0  0.0  0.0  0.0  0.0  0.0  1.0 -1.0  0.0   \n",
       "3  1.0  0.0  0.0  0.0  0.0  0.0  0.0  0.0  0.0  0.0  0.0  0.0  0.0  0.0  0.0   \n",
       "4  0.0  0.0  1.0  0.0  0.0  0.0  0.0  0.0  0.0  0.0  0.0  0.0  0.0  0.0  0.0   \n",
       "\n",
       "    26   27   28   29   30   31   32   33   34   35   36   37   38   39   40  \\\n",
       "0  1.0 -1.0  0.0  0.0  0.0  0.0  0.0  0.0  0.0  0.0  0.0  0.0  0.0  0.0  0.0   \n",
       "1  0.0  0.0  0.0  0.0  0.0  0.0  0.0  0.0  0.0  0.0  0.0  0.0  0.0  0.0  0.0   \n",
       "2  0.0  0.0  0.0  0.0  0.0  0.0  0.0  0.0  0.0  0.0  0.0  0.0  0.0  0.0  0.0   \n",
       "3  0.0  0.0  0.0  0.0  0.0  1.0  0.0  0.0  0.0 -1.0  0.0  0.0  0.0  0.0  1.0   \n",
       "4  0.0  0.0  0.0  0.0  0.0  0.0  0.0  0.0  0.0  0.0  0.0  0.0  0.0  0.0  0.0   \n",
       "\n",
       "    41   42   43   44   45  \n",
       "0  0.0  0.0  0.0  0.0  0.0  \n",
       "1  1.0  0.0  0.0 -1.0  0.0  \n",
       "2  0.0  0.0  0.0  0.0  0.0  \n",
       "3  0.0  0.0  0.0 -1.0  0.0  \n",
       "4  0.0  0.0  0.0  0.0  0.0  "
      ]
     },
     "execution_count": 25,
     "metadata": {},
     "output_type": "execute_result"
    }
   ],
   "source": [
    "test.head()"
   ]
  },
  {
   "cell_type": "markdown",
   "id": "a22c21da",
   "metadata": {},
   "source": [
    "# ----Defining our Evaluation Metrics as per the Kaggle Competition----"
   ]
  },
  {
   "cell_type": "code",
   "execution_count": 26,
   "id": "5a34f97a",
   "metadata": {},
   "outputs": [],
   "source": [
    "def MAPE(y_train, y_pred): \n",
    "    y_train, y_pred = np.array(y_train), np.array(y_pred)\n",
    "    \n",
    "    # masking is done here to handle/avoid zero division error\n",
    "    y_train, y_pred = y_train[y_train != 0], y_pred[y_train != 0]\n",
    "    percentage_error = np.abs((y_train - y_pred) / y_train)\n",
    "    mape = np.mean(percentage_error) * 100\n",
    "    \n",
    "    return mape"
   ]
  },
  {
   "cell_type": "markdown",
   "id": "8ea59482",
   "metadata": {},
   "source": [
    "# ---------------Model Building---------------"
   ]
  },
  {
   "cell_type": "markdown",
   "id": "058a5b65",
   "metadata": {},
   "source": [
    "### Decision Tree Regressor"
   ]
  },
  {
   "cell_type": "code",
   "execution_count": 27,
   "id": "0ed68fa8",
   "metadata": {},
   "outputs": [
    {
     "name": "stdout",
     "output_type": "stream",
     "text": [
      "Fitting 5 folds for each of 192 candidates, totalling 960 fits\n",
      "Best hyperparameters: {'max_depth': None, 'max_features': 'sqrt', 'min_samples_leaf': 4, 'min_samples_split': 2}\n",
      "MAPE Decision Tree Regressor: 23.623361415484\n"
     ]
    }
   ],
   "source": [
    "from sklearn.tree import DecisionTreeRegressor\n",
    "from sklearn.metrics import mean_squared_error, mean_absolute_error, r2_score\n",
    "from sklearn.model_selection import GridSearchCV\n",
    "\n",
    "# DecisionTreeRegressor\n",
    "dt = DecisionTreeRegressor()\n",
    "\n",
    "param_grid = {\n",
    "    'max_depth': [None, 5, 10, 15, 20, 30],\n",
    "    'min_samples_split': [2, 5, 10, 15],\n",
    "    'min_samples_leaf': [1, 2, 4, 6],\n",
    "    'max_features': ['sqrt', 'log2'],\n",
    "}\n",
    "\n",
    "# GridSearchCV with n_jobs and verbose\n",
    "grid_search_dt = GridSearchCV(estimator=dt, param_grid=param_grid, cv=5, n_jobs=-1, verbose=3)\n",
    "grid_search_dt.fit(train, y_train)\n",
    "print(\"Best hyperparameters:\", grid_search_dt.best_params_)\n",
    "best_model_dt = grid_search_dt.best_estimator_\n",
    "\n",
    "y_pred_dt = best_model_dt.predict(train)\n",
    "y_pred_test_dt = best_model_dt.predict(test)\n",
    "\n",
    "mape_dt = MAPE(y_train, y_pred_dt)\n",
    "print('MAPE Decision Tree Regressor:', mape_dt)"
   ]
  },
  {
   "cell_type": "markdown",
   "id": "b356c154",
   "metadata": {},
   "source": [
    "### Randoim Forest Regressor"
   ]
  },
  {
   "cell_type": "code",
   "execution_count": 28,
   "id": "946a18a7",
   "metadata": {},
   "outputs": [
    {
     "name": "stdout",
     "output_type": "stream",
     "text": [
      "Fitting 5 folds for each of 576 candidates, totalling 2880 fits\n",
      "Best hyperparameters: {'max_depth': 30, 'max_features': 'sqrt', 'min_samples_leaf': 1, 'min_samples_split': 2, 'n_estimators': 300}\n",
      "MAPE Random Forest Regressor: 12.867165421269025\n"
     ]
    }
   ],
   "source": [
    "from sklearn.ensemble import RandomForestRegressor\n",
    "from sklearn.metrics import mean_squared_error, mean_absolute_error, r2_score\n",
    "from sklearn.model_selection import GridSearchCV\n",
    "import numpy as np\n",
    "\n",
    "# Random Forest Regressor\n",
    "rfr = RandomForestRegressor(n_jobs=-1)\n",
    "\n",
    "param_grid = {\n",
    "    'n_estimators': [100, 200, 300],\n",
    "    'max_depth': [None, 5, 10, 15, 20, 30],\n",
    "    'min_samples_split': [2, 5, 10, 15],\n",
    "    'min_samples_leaf': [1, 2, 4, 6],\n",
    "    'max_features': ['sqrt', 'log2'],\n",
    "}\n",
    "\n",
    "\n",
    "# GridSearchCV with n_jobs and verbose\n",
    "grid_search = GridSearchCV(estimator=rfr, param_grid=param_grid, cv=5, n_jobs=-1, verbose=3)\n",
    "grid_search.fit(train, y_train)\n",
    "print(\"Best hyperparameters:\", grid_search.best_params_)\n",
    "best_model = grid_search.best_estimator_\n",
    "\n",
    "y_pred = best_model.predict(train)\n",
    "y_pred_test = best_model.predict(test)\n",
    "mape = MAPE(y_train, y_pred)\n",
    "print('MAPE Random Forest Regressor:', mape)"
   ]
  },
  {
   "cell_type": "markdown",
   "id": "6fc269d7",
   "metadata": {},
   "source": [
    "### Extra Trees Regressor"
   ]
  },
  {
   "cell_type": "code",
   "execution_count": 29,
   "id": "ed3fb678",
   "metadata": {},
   "outputs": [
    {
     "name": "stdout",
     "output_type": "stream",
     "text": [
      "Fitting 5 folds for each of 576 candidates, totalling 2880 fits\n",
      "Best hyperparameters: {'max_depth': 30, 'max_features': 'sqrt', 'min_samples_leaf': 1, 'min_samples_split': 5, 'n_estimators': 200}\n",
      "MAPE Extra Trees Regressor: 16.69213307540963\n"
     ]
    }
   ],
   "source": [
    "from sklearn.ensemble import ExtraTreesRegressor\n",
    "from sklearn.metrics import mean_squared_error, mean_absolute_error, r2_score\n",
    "from sklearn.model_selection import GridSearchCV\n",
    "\n",
    "# ExtraTreesRegressor\n",
    "et = ExtraTreesRegressor(n_jobs=-1)\n",
    "\n",
    "param_grid = {\n",
    "    'n_estimators': [100, 200, 300],\n",
    "    'max_depth': [None, 5, 10, 15, 20, 30],\n",
    "    'min_samples_split': [2, 5, 10, 15],\n",
    "    'min_samples_leaf': [1, 2, 4, 6],\n",
    "    'max_features': ['sqrt', 'log2'],\n",
    "}\n",
    "\n",
    "# GridSearchCV with n_jobs and verbose\n",
    "grid_search_et = GridSearchCV(estimator=et, param_grid=param_grid, cv=5, n_jobs=-1, verbose=3)\n",
    "grid_search_et.fit(train, y_train)\n",
    "print(\"Best hyperparameters:\", grid_search_et.best_params_)\n",
    "best_model_et = grid_search_et.best_estimator_\n",
    "\n",
    "y_pred_et = best_model_et.predict(train)\n",
    "y_pred_test_et = best_model_et.predict(test)\n",
    "\n",
    "mape_et = MAPE(y_train, y_pred_et)\n",
    "print('MAPE Extra Trees Regressor:', mape_et)"
   ]
  },
  {
   "cell_type": "markdown",
   "id": "d03704da",
   "metadata": {},
   "source": [
    "### LightGBM Regressor"
   ]
  },
  {
   "cell_type": "code",
   "execution_count": 30,
   "id": "37ecd101",
   "metadata": {},
   "outputs": [
    {
     "name": "stdout",
     "output_type": "stream",
     "text": [
      "Fitting 5 folds for each of 1458 candidates, totalling 7290 fits\n",
      "[LightGBM] [Warning] Accuracy may be bad since you didn't explicitly set num_leaves OR 2^max_depth > num_leaves. (num_leaves=31).\n",
      "[LightGBM] [Warning] Accuracy may be bad since you didn't explicitly set num_leaves OR 2^max_depth > num_leaves. (num_leaves=31).\n",
      "[LightGBM] [Info] Auto-choosing row-wise multi-threading, the overhead of testing was 0.002531 seconds.\n",
      "You can set `force_row_wise=true` to remove the overhead.\n",
      "And if memory is not enough, you can set `force_col_wise=true`.\n",
      "[LightGBM] [Info] Total Bins 695\n",
      "[LightGBM] [Info] Number of data points in the train set: 33248, number of used features: 45\n",
      "[LightGBM] [Info] Start training from score 104938.651998\n",
      "Best hyperparameters: {'colsample_bytree': 1.0, 'learning_rate': 0.2, 'max_depth': 10, 'min_child_samples': 10, 'n_estimators': 300, 'subsample': 0.8}\n",
      "[LightGBM] [Warning] Accuracy may be bad since you didn't explicitly set num_leaves OR 2^max_depth > num_leaves. (num_leaves=31).\n",
      "[LightGBM] [Warning] Accuracy may be bad since you didn't explicitly set num_leaves OR 2^max_depth > num_leaves. (num_leaves=31).\n",
      "MAPE LightGBM Regressor: 20.415836593085583\n"
     ]
    }
   ],
   "source": [
    "from lightgbm import LGBMRegressor\n",
    "from sklearn.metrics import mean_squared_error, mean_absolute_error, r2_score\n",
    "from sklearn.model_selection import GridSearchCV\n",
    "\n",
    "# LightGBM Regressor\n",
    "lgbm = LGBMRegressor()\n",
    "\n",
    "param_grid = {\n",
    "    'n_estimators': [100, 200, 300],\n",
    "    'max_depth': [None, 5, 10, 15, 20, 30],\n",
    "    'min_child_samples': [5, 10, 15],\n",
    "    'learning_rate': [0.05, 0.1, 0.2],\n",
    "    'subsample': [0.8, 0.9, 1.0],\n",
    "    'colsample_bytree': [0.8, 0.9, 1.0],\n",
    "}\n",
    "\n",
    "# GridSearchCV with n_jobs and verbose\n",
    "grid_search_lgbm = GridSearchCV(estimator=lgbm, param_grid=param_grid, cv=5, n_jobs=-1, verbose=3)\n",
    "grid_search_lgbm.fit(train, y_train)\n",
    "print(\"Best hyperparameters:\", grid_search_lgbm.best_params_)\n",
    "best_model_lgbm = grid_search_lgbm.best_estimator_\n",
    "\n",
    "y_pred_lgbm = best_model_lgbm.predict(train)\n",
    "y_pred_test_lgbm = best_model_lgbm.predict(test)\n",
    "\n",
    "mape_lgbm = MAPE(y_train, y_pred_lgbm)\n",
    "print('MAPE LightGBM Regressor:', mape_lgbm)"
   ]
  },
  {
   "cell_type": "markdown",
   "id": "0e7f57cc",
   "metadata": {},
   "source": [
    "### XGBRegressor"
   ]
  },
  {
   "cell_type": "code",
   "execution_count": 31,
   "id": "d0cd3b94",
   "metadata": {},
   "outputs": [
    {
     "name": "stdout",
     "output_type": "stream",
     "text": [
      "Fitting 5 folds for each of 324 candidates, totalling 1620 fits\n",
      "Best hyperparameters: {'colsample_bytree': 0.8, 'learning_rate': 0.05, 'max_depth': 10, 'n_estimators': 300, 'subsample': 0.9}\n",
      "MAPE XGBoost Regressor: 17.186337583289138\n"
     ]
    }
   ],
   "source": [
    "from xgboost import XGBRegressor\n",
    "from sklearn.metrics import mean_squared_error, mean_absolute_error, r2_score\n",
    "from sklearn.model_selection import GridSearchCV\n",
    "\n",
    "# XGBRegressor\n",
    "xgb = XGBRegressor()\n",
    "\n",
    "param_grid = {\n",
    "    'n_estimators': [100, 200, 300],\n",
    "    'max_depth': [3, 5, 7, 10],\n",
    "    'learning_rate': [0.05, 0.1, 0.2],\n",
    "    'subsample': [0.8, 0.9, 1.0],\n",
    "    'colsample_bytree': [0.8, 0.9, 1.0],\n",
    "}\n",
    "\n",
    "# GridSearchCV with n_jobs and verbose\n",
    "grid_search_xgb = GridSearchCV(estimator=xgb, param_grid=param_grid, cv=5, n_jobs=-1, verbose=3)\n",
    "grid_search_xgb.fit(train, y_train)\n",
    "print(\"Best hyperparameters:\", grid_search_xgb.best_params_)\n",
    "best_model_xgb = grid_search_xgb.best_estimator_\n",
    "\n",
    "y_pred_xgb = best_model_xgb.predict(train)\n",
    "y_pred_test_xgb = best_model_xgb.predict(test)\n",
    "\n",
    "mape_xgb = MAPE(y_train, y_pred_xgb)\n",
    "print('MAPE XGBoost Regressor:', mape_xgb)"
   ]
  },
  {
   "cell_type": "markdown",
   "id": "c374aefa",
   "metadata": {},
   "source": [
    "# ---------------Ensemble Learning Techniques---------------"
   ]
  },
  {
   "cell_type": "markdown",
   "id": "d8fb3b6c",
   "metadata": {},
   "source": [
    "### Combining the Predictions of all the trained Models above"
   ]
  },
  {
   "cell_type": "code",
   "execution_count": 32,
   "id": "596a0c74",
   "metadata": {},
   "outputs": [
    {
     "name": "stdout",
     "output_type": "stream",
     "text": [
      "Ensemble MAPE: 17.493983719722998\n"
     ]
    }
   ],
   "source": [
    "ensemble_predictions = np.mean([y_pred_dt, y_pred, y_pred_et, y_pred_lgbm, y_pred_xgb], axis=0)\n",
    "mape_final = MAPE(y_train, ensemble_predictions)\n",
    "print(\"Ensemble MAPE:\", mape_final)"
   ]
  },
  {
   "cell_type": "code",
   "execution_count": 33,
   "id": "2616c040",
   "metadata": {},
   "outputs": [],
   "source": [
    "y_pred_test_ensemble = (\n",
    "    y_pred_test +\n",
    "    y_pred_test_et +\n",
    "    y_pred_test_lgbm +\n",
    "    y_pred_test_dt +\n",
    "    y_pred_test_xgb\n",
    ") / 6"
   ]
  },
  {
   "cell_type": "code",
   "execution_count": 34,
   "id": "5d428590",
   "metadata": {},
   "outputs": [],
   "source": [
    "final_pred = y_pred_test_ensemble\n",
    "submission = pd.DataFrame()\n",
    "submission['ID'] = test_ID\n",
    "submission['Mean_Salary'] = final_pred\n",
    "submission.to_csv('submission.csv', index=False)"
   ]
  },
  {
   "cell_type": "code",
   "execution_count": null,
   "id": "3bd46854",
   "metadata": {},
   "outputs": [],
   "source": []
  }
 ],
 "metadata": {
  "kernelspec": {
   "display_name": "Python 3",
   "language": "python",
   "name": "python3"
  },
  "language_info": {
   "codemirror_mode": {
    "name": "ipython",
    "version": 3
   },
   "file_extension": ".py",
   "mimetype": "text/x-python",
   "name": "python",
   "nbconvert_exporter": "python",
   "pygments_lexer": "ipython3",
   "version": "3.8.8"
  }
 },
 "nbformat": 4,
 "nbformat_minor": 5
}
